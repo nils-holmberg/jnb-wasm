{
 "cells": [
  {
   "cell_type": "markdown",
   "id": "2a058b87-05fe-4349-964e-e1ff7b66a8fe",
   "metadata": {},
   "source": [
    "# Coursekata"
   ]
  },
  {
   "cell_type": "code",
   "execution_count": null,
   "id": "6123f1f0-722b-4a75-a3d1-38b46998df56",
   "metadata": {},
   "outputs": [],
   "source": [
    "options(coursekata.quickstart = TRUE)\n",
    "library(coursekata)"
   ]
  },
  {
   "cell_type": "code",
   "execution_count": null,
   "id": "cd7ba938-2d41-4741-b414-5d5c4ca84bac",
   "metadata": {},
   "outputs": [],
   "source": [
    "fit <- lm(mpg ~ hp, data = mtcars)\n",
    "\n",
    "# the estimate for β₀, the intercept\n",
    "b0(fit)\n",
    "#> [1] 30.09886\n",
    "\n",
    "# the estimate for β₁, the slope\n",
    "b1(fit)\n",
    "#> [1] -0.06822828\n",
    "\n",
    "# all the estimates\n",
    "b(fit)\n",
    "#> $b_0\n",
    "#> [1] 30.09886\n",
    "#> \n",
    "#> $b_hp\n",
    "#> [1] -0.06822828\n",
    "\n",
    "# the proportional reduction in error\n",
    "pre(fit)\n",
    "#> [1] 0.6024373\n",
    "\n",
    "# Fisher's F value\n",
    "f(fit)\n",
    "#> [1] 45.4598\n",
    "\n",
    "# the p-value for the F test\n",
    "p(fit)\n",
    "#> [1] 1.787835e-07"
   ]
  },
  {
   "cell_type": "code",
   "execution_count": null,
   "id": "cc7ecccc-631f-4f3d-b795-fe741cb6389c",
   "metadata": {},
   "outputs": [],
   "source": [
    "# use mosaic package to repetitively resample to bootstrap a distribution\n",
    "samp_dist_of_b1 <- do(1000) * b1(lm(mpg ~ hp, data = resample(mtcars)))\n",
    "\n",
    "# plot the bootstrapped estimates\n",
    "gf_histogram(~ samp_dist_of_b1$b1)"
   ]
  },
  {
   "cell_type": "code",
   "execution_count": null,
   "id": "7196572c-6d2a-4498-abe9-2c093f486ac9",
   "metadata": {},
   "outputs": [],
   "source": [
    "samp_dist_of_hp <- do(1000) * {\n",
    "  # create a new model from the resampled data\n",
    "  model <- lm(mpg ~ disp * hp, data = resample(mtcars))\n",
    "\n",
    "  # extract the desired estimate, here the coefficient for hp\n",
    "  coef(model)[[\"hp\"]]\n",
    "}\n",
    "\n",
    "# plot the bootstrapped estimates\n",
    "gf_histogram(~ samp_dist_of_hp$result)"
   ]
  },
  {
   "cell_type": "code",
   "execution_count": null,
   "id": "9c89aa58-725b-4afe-b56e-167e28ba1cfc",
   "metadata": {},
   "outputs": [],
   "source": [
    "# shade in the middle 80% of the Thumb distribution\n",
    "gf_histogram(~Thumb, data = Fingers, fill = ~ middle(Thumb, .80))"
   ]
  }
 ],
 "metadata": {
  "kernelspec": {
   "display_name": "Python 3 (ipykernel)",
   "language": "python",
   "name": "python3"
  },
  "language_info": {
   "codemirror_mode": {
    "name": "ipython",
    "version": 3
   },
   "file_extension": ".py",
   "mimetype": "text/x-python",
   "name": "python",
   "nbconvert_exporter": "python",
   "pygments_lexer": "ipython3",
   "version": "3.13.2"
  }
 },
 "nbformat": 4,
 "nbformat_minor": 5
}
