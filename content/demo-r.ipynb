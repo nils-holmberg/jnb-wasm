{
 "cells": [
  {
   "cell_type": "markdown",
   "id": "468b7fa2-408d-4065-8735-8dc3cab58c74",
   "metadata": {},
   "source": [
    "# XEUS-R"
   ]
  },
  {
   "cell_type": "code",
   "execution_count": null,
   "id": "175fcf93-4b7f-4765-89c9-9bdca7d6f469",
   "metadata": {
    "vscode": {
     "languageId": "r"
    }
   },
   "outputs": [],
   "source": [
    "R.version"
   ]
  },
  {
   "cell_type": "markdown",
   "id": "a355914b-ed67-4936-a2b5-1c3a0ec9655a",
   "metadata": {},
   "source": [
    "## Internal packages"
   ]
  },
  {
   "cell_type": "code",
   "execution_count": null,
   "id": "2dff9d90-c55a-4a60-a22f-4b3f6dd3484a",
   "metadata": {
    "vscode": {
     "languageId": "r"
    }
   },
   "outputs": [],
   "source": [
    "library(stats)\n",
    "\n",
    "set.seed(123)\n",
    "x <- rnorm(100)\n",
    "y <- 2 * x + rnorm(100)\n",
    "\n",
    "# Linear regression\n",
    "model <- lm(y ~ x)\n",
    "summary(model)"
   ]
  },
  {
   "cell_type": "code",
   "execution_count": null,
   "id": "59d690ab-f7ba-4154-9552-bc676ce3f274",
   "metadata": {
    "vscode": {
     "languageId": "r"
    }
   },
   "outputs": [],
   "source": [
    "A <- matrix(c(1, 2, 3, 4, 5, 6), nrow = 3, ncol = 2)\n",
    "\n",
    "# Singular value decomposition\n",
    "svd_result <- La.svd(A)\n",
    "\n",
    "print(svd_result)"
   ]
  },
  {
   "cell_type": "code",
   "execution_count": null,
   "id": "3c6fa0e1-dc7b-4e10-a904-1f974a2b0d1f",
   "metadata": {
    "vscode": {
     "languageId": "r"
    }
   },
   "outputs": [],
   "source": [
    "A <- matrix(c(4, 1, 1, 3), nrow = 2, byrow = TRUE)\n",
    "\n",
    "# Eigen decomposition\n",
    "eigen_result <- eigen(A)\n",
    "\n",
    "print(eigen_result$values)\n",
    "\n",
    "print(eigen_result$vectors)"
   ]
  },
  {
   "cell_type": "code",
   "execution_count": null,
   "id": "7b7f6f8d",
   "metadata": {
    "vscode": {
     "languageId": "r"
    }
   },
   "outputs": [],
   "source": [
    "# Example positive-definite matrix\n",
    "A <- matrix(c(4, 1, 1, 3), nrow = 2, byrow = TRUE)\n",
    "\n",
    "# Cholesky decomposition\n",
    "chol_result <- chol(A)\n",
    "\n",
    "print(chol_result)"
   ]
  },
  {
   "cell_type": "code",
   "execution_count": null,
   "id": "87db7910",
   "metadata": {
    "vscode": {
     "languageId": "r"
    }
   },
   "outputs": [],
   "source": [
    "B <- matrix(c(1, 2, 3, 4, 5, 6), nrow = 3, ncol = 2)\n",
    "C <- matrix(c(7, 8, 9, 10, 11, 12), nrow = 3, ncol = 2)\n",
    "\n",
    "# Perform matrix multiplication using BLAS\n",
    "result <- crossprod(B, C)\n",
    "\n",
    "print(result)"
   ]
  },
  {
   "cell_type": "code",
   "execution_count": null,
   "id": "329b3298",
   "metadata": {
    "vscode": {
     "languageId": "r"
    }
   },
   "outputs": [],
   "source": [
    "# Fibonacci sequence\n",
    "fibonacci_loop <- function(n) {\n",
    "    a <- 0\n",
    "    b <- 1\n",
    "\n",
    "    for (i in 1:n) {\n",
    "        fib <- a\n",
    "        cat(fib, \"\\n\")\n",
    "        a <- b\n",
    "        b <- fib + b\n",
    "    }\n",
    "    return(a)\n",
    "}\n",
    "\n",
    "fibonacci_loop(10)"
   ]
  },
  {
   "cell_type": "markdown",
   "id": "44e749f8",
   "metadata": {},
   "source": [
    "## Other R Packages"
   ]
  },
  {
   "cell_type": "code",
   "execution_count": null,
   "id": "83b0ab14",
   "metadata": {
    "vscode": {
     "languageId": "r"
    }
   },
   "outputs": [],
   "source": [
    "library(RColorBrewer)\n",
    "palette <- brewer.pal(8, \"Set3\")\n",
    "print(palette)"
   ]
  },
  {
   "cell_type": "code",
   "execution_count": null,
   "id": "1d1974e2",
   "metadata": {
    "vscode": {
     "languageId": "r"
    }
   },
   "outputs": [],
   "source": [
    "library(crayon)\n",
    "\n",
    "# Create colorful text\n",
    "red_text <- red(\"This is red text\")\n",
    "green_text <- green(\"This is green text\")\n",
    "blue_text <- blue(\"This is blue text\")\n",
    "bold_text <- bold(\"This is bold text\")\n",
    "underline_text <- underline(\"This is underlined text\")\n",
    "\n",
    "cat(red_text, \"\\n\")\n",
    "cat(green_text, \"\\n\")\n",
    "cat(blue_text, \"\\n\")\n",
    "cat(bold_text, \"\\n\")\n",
    "cat(underline_text, \"\\n\")"
   ]
  },
  {
   "cell_type": "code",
   "execution_count": null,
   "id": "1b513ed3",
   "metadata": {
    "vscode": {
     "languageId": "r"
    }
   },
   "outputs": [],
   "source": [
    "library(htmltools)\n",
    "\n",
    "# Create HMTL elements\n",
    "title <- tags$title(\"My HTML Page\")\n",
    "header <- tags$h1(\"Hello there!\")\n",
    "paragraph <- tags$p(\"This is a paragraph created using htmltools.\")\n",
    "list_items <- tags$ul(tags$li(\"Item 1\"), tags$li(\"Item 2\"), tags$li(\"Item 3\"))\n",
    "\n",
    "# Combine elements into an HTML document\n",
    "html_doc <- tags$html(\n",
    "    tags$head(title),\n",
    "    tags$body(\n",
    "        header,\n",
    "        paragraph,\n",
    "        list_items\n",
    "    )\n",
    ")\n",
    "\n",
    "print(html_doc)"
   ]
  },
  {
   "cell_type": "code",
   "execution_count": null,
   "id": "a0082167",
   "metadata": {
    "vscode": {
     "languageId": "r"
    }
   },
   "outputs": [],
   "source": [
    "library(farver)\n",
    "\n",
    "# Define a color in RBG space\n",
    "rgb_color <- matrix(c(255, 0, 0), ncol = 3)\n",
    "\n",
    "# Convert RGB to HSV\n",
    "hsv_color <- convert_colour(rgb_color, \"rgb\", \"hsv\")\n",
    "\n",
    "# Convert RGB to LAB\n",
    "lab_color <- convert_colour(rgb_color, \"rgb\", \"lab\")\n",
    "\n",
    "print(rgb_color)\n",
    "print(hsv_color)\n",
    "print(lab_color)"
   ]
  }
 ],
 "metadata": {
  "kernelspec": {
   "display_name": "R 4.3.1 (xr)",
   "language": "R",
   "name": "xr"
  },
  "language_info": {
   "codemirror_mode": "",
   "file_extension": "R",
   "mimetype": "text/x-R",
   "name": "R",
   "nbconvert_exporter": "",
   "pygments_lexer": "",
   "version": "4.3.1"
  }
 },
 "nbformat": 4,
 "nbformat_minor": 5
}
